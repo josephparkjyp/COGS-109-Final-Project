{
 "cells": [
  {
   "cell_type": "code",
   "execution_count": 15,
   "id": "22a040f8",
   "metadata": {},
   "outputs": [],
   "source": [
    "# Imports\n",
    "import pandas as pd\n",
    "import numpy as np\n",
    "import matplotlib.pyplot as plt\n",
    "import seaborn as sns\n",
    "\n",
    "# Logistic Regression\n",
    "import itertools\n",
    "from sklearn.model_selection import KFold\n",
    "from sklearn.ensemble import RandomForestClassifier\n",
    "from sklearn.metrics import mean_squared_error\n",
    "from sklearn.linear_model import LogisticRegression\n",
    "from sklearn.model_selection import train_test_split, cross_val_score\n",
    "from sklearn.preprocessing import StandardScaler\n",
    "from sklearn.impute import SimpleImputer\n",
    "from sklearn.pipeline import make_pipeline\n",
    "from sklearn.feature_selection import RFE\n",
    "from sklearn.metrics import accuracy_score"
   ]
  },
  {
   "cell_type": "code",
   "execution_count": 2,
   "id": "b8477c11",
   "metadata": {},
   "outputs": [],
   "source": [
    "df = pd.read_csv('heart.csv')"
   ]
  },
  {
   "cell_type": "code",
   "execution_count": 3,
   "id": "e5a601a7",
   "metadata": {},
   "outputs": [
    {
     "data": {
      "text/html": [
       "<div>\n",
       "<style scoped>\n",
       "    .dataframe tbody tr th:only-of-type {\n",
       "        vertical-align: middle;\n",
       "    }\n",
       "\n",
       "    .dataframe tbody tr th {\n",
       "        vertical-align: top;\n",
       "    }\n",
       "\n",
       "    .dataframe thead th {\n",
       "        text-align: right;\n",
       "    }\n",
       "</style>\n",
       "<table border=\"1\" class=\"dataframe\">\n",
       "  <thead>\n",
       "    <tr style=\"text-align: right;\">\n",
       "      <th></th>\n",
       "      <th>Age</th>\n",
       "      <th>Sex</th>\n",
       "      <th>ChestPainType</th>\n",
       "      <th>RestingBP</th>\n",
       "      <th>Cholesterol</th>\n",
       "      <th>FastingBS</th>\n",
       "      <th>RestingECG</th>\n",
       "      <th>MaxHR</th>\n",
       "      <th>ExerciseAngina</th>\n",
       "      <th>Oldpeak</th>\n",
       "      <th>ST_Slope</th>\n",
       "      <th>HeartDisease</th>\n",
       "    </tr>\n",
       "  </thead>\n",
       "  <tbody>\n",
       "    <tr>\n",
       "      <th>0</th>\n",
       "      <td>40</td>\n",
       "      <td>M</td>\n",
       "      <td>ATA</td>\n",
       "      <td>140</td>\n",
       "      <td>289</td>\n",
       "      <td>0</td>\n",
       "      <td>Normal</td>\n",
       "      <td>172</td>\n",
       "      <td>N</td>\n",
       "      <td>0.0</td>\n",
       "      <td>Up</td>\n",
       "      <td>0</td>\n",
       "    </tr>\n",
       "    <tr>\n",
       "      <th>1</th>\n",
       "      <td>49</td>\n",
       "      <td>F</td>\n",
       "      <td>NAP</td>\n",
       "      <td>160</td>\n",
       "      <td>180</td>\n",
       "      <td>0</td>\n",
       "      <td>Normal</td>\n",
       "      <td>156</td>\n",
       "      <td>N</td>\n",
       "      <td>1.0</td>\n",
       "      <td>Flat</td>\n",
       "      <td>1</td>\n",
       "    </tr>\n",
       "    <tr>\n",
       "      <th>2</th>\n",
       "      <td>37</td>\n",
       "      <td>M</td>\n",
       "      <td>ATA</td>\n",
       "      <td>130</td>\n",
       "      <td>283</td>\n",
       "      <td>0</td>\n",
       "      <td>ST</td>\n",
       "      <td>98</td>\n",
       "      <td>N</td>\n",
       "      <td>0.0</td>\n",
       "      <td>Up</td>\n",
       "      <td>0</td>\n",
       "    </tr>\n",
       "    <tr>\n",
       "      <th>3</th>\n",
       "      <td>48</td>\n",
       "      <td>F</td>\n",
       "      <td>ASY</td>\n",
       "      <td>138</td>\n",
       "      <td>214</td>\n",
       "      <td>0</td>\n",
       "      <td>Normal</td>\n",
       "      <td>108</td>\n",
       "      <td>Y</td>\n",
       "      <td>1.5</td>\n",
       "      <td>Flat</td>\n",
       "      <td>1</td>\n",
       "    </tr>\n",
       "    <tr>\n",
       "      <th>4</th>\n",
       "      <td>54</td>\n",
       "      <td>M</td>\n",
       "      <td>NAP</td>\n",
       "      <td>150</td>\n",
       "      <td>195</td>\n",
       "      <td>0</td>\n",
       "      <td>Normal</td>\n",
       "      <td>122</td>\n",
       "      <td>N</td>\n",
       "      <td>0.0</td>\n",
       "      <td>Up</td>\n",
       "      <td>0</td>\n",
       "    </tr>\n",
       "    <tr>\n",
       "      <th>5</th>\n",
       "      <td>39</td>\n",
       "      <td>M</td>\n",
       "      <td>NAP</td>\n",
       "      <td>120</td>\n",
       "      <td>339</td>\n",
       "      <td>0</td>\n",
       "      <td>Normal</td>\n",
       "      <td>170</td>\n",
       "      <td>N</td>\n",
       "      <td>0.0</td>\n",
       "      <td>Up</td>\n",
       "      <td>0</td>\n",
       "    </tr>\n",
       "    <tr>\n",
       "      <th>6</th>\n",
       "      <td>45</td>\n",
       "      <td>F</td>\n",
       "      <td>ATA</td>\n",
       "      <td>130</td>\n",
       "      <td>237</td>\n",
       "      <td>0</td>\n",
       "      <td>Normal</td>\n",
       "      <td>170</td>\n",
       "      <td>N</td>\n",
       "      <td>0.0</td>\n",
       "      <td>Up</td>\n",
       "      <td>0</td>\n",
       "    </tr>\n",
       "    <tr>\n",
       "      <th>7</th>\n",
       "      <td>54</td>\n",
       "      <td>M</td>\n",
       "      <td>ATA</td>\n",
       "      <td>110</td>\n",
       "      <td>208</td>\n",
       "      <td>0</td>\n",
       "      <td>Normal</td>\n",
       "      <td>142</td>\n",
       "      <td>N</td>\n",
       "      <td>0.0</td>\n",
       "      <td>Up</td>\n",
       "      <td>0</td>\n",
       "    </tr>\n",
       "    <tr>\n",
       "      <th>8</th>\n",
       "      <td>37</td>\n",
       "      <td>M</td>\n",
       "      <td>ASY</td>\n",
       "      <td>140</td>\n",
       "      <td>207</td>\n",
       "      <td>0</td>\n",
       "      <td>Normal</td>\n",
       "      <td>130</td>\n",
       "      <td>Y</td>\n",
       "      <td>1.5</td>\n",
       "      <td>Flat</td>\n",
       "      <td>1</td>\n",
       "    </tr>\n",
       "    <tr>\n",
       "      <th>9</th>\n",
       "      <td>48</td>\n",
       "      <td>F</td>\n",
       "      <td>ATA</td>\n",
       "      <td>120</td>\n",
       "      <td>284</td>\n",
       "      <td>0</td>\n",
       "      <td>Normal</td>\n",
       "      <td>120</td>\n",
       "      <td>N</td>\n",
       "      <td>0.0</td>\n",
       "      <td>Up</td>\n",
       "      <td>0</td>\n",
       "    </tr>\n",
       "  </tbody>\n",
       "</table>\n",
       "</div>"
      ],
      "text/plain": [
       "   Age Sex ChestPainType  RestingBP  Cholesterol  FastingBS RestingECG  MaxHR  \\\n",
       "0   40   M           ATA        140          289          0     Normal    172   \n",
       "1   49   F           NAP        160          180          0     Normal    156   \n",
       "2   37   M           ATA        130          283          0         ST     98   \n",
       "3   48   F           ASY        138          214          0     Normal    108   \n",
       "4   54   M           NAP        150          195          0     Normal    122   \n",
       "5   39   M           NAP        120          339          0     Normal    170   \n",
       "6   45   F           ATA        130          237          0     Normal    170   \n",
       "7   54   M           ATA        110          208          0     Normal    142   \n",
       "8   37   M           ASY        140          207          0     Normal    130   \n",
       "9   48   F           ATA        120          284          0     Normal    120   \n",
       "\n",
       "  ExerciseAngina  Oldpeak ST_Slope  HeartDisease  \n",
       "0              N      0.0       Up             0  \n",
       "1              N      1.0     Flat             1  \n",
       "2              N      0.0       Up             0  \n",
       "3              Y      1.5     Flat             1  \n",
       "4              N      0.0       Up             0  \n",
       "5              N      0.0       Up             0  \n",
       "6              N      0.0       Up             0  \n",
       "7              N      0.0       Up             0  \n",
       "8              Y      1.5     Flat             1  \n",
       "9              N      0.0       Up             0  "
      ]
     },
     "execution_count": 3,
     "metadata": {},
     "output_type": "execute_result"
    }
   ],
   "source": [
    "# 918 rows × 12 columns and no NaN values\n",
    "df.head(10)"
   ]
  },
  {
   "cell_type": "markdown",
   "id": "d01ccf75",
   "metadata": {},
   "source": [
    "# Logistic Regression"
   ]
  },
  {
   "cell_type": "code",
   "execution_count": 4,
   "id": "24fe0bcc",
   "metadata": {},
   "outputs": [],
   "source": [
    "df['SexDummy'] = df['Sex'].replace({'M': 1, 'F': 0})\n",
    "df['PainDummy'] = df['ChestPainType'].replace({'ASY': 0, 'NAP': 1, 'ATA': 2, 'TA': 3})\n",
    "df['ECG_Dummy'] = df['RestingECG'].replace({'Normal': 0, 'ST': 1, 'LVH': 2})\n",
    "df['ExerciseDummy'] = df['ExerciseAngina'].replace({'Y': 1, 'N': 0})\n",
    "df['ST_SlopeDummy'] = df['ST_Slope'].replace({'Up': 1, 'Flat': 0, 'Down': -1})"
   ]
  },
  {
   "cell_type": "code",
   "execution_count": 5,
   "id": "5ad4b6ad",
   "metadata": {},
   "outputs": [],
   "source": [
    "def logreg(X, y, random_state=20, cv=5, n_features=10):\n",
    "    predictors = df[X]\n",
    "    to_predict = df[y]\n",
    "    \n",
    "    X_train, X_test, y_train, y_test = train_test_split(predictors, to_predict, test_size=0.2, random_state=random_state)\n",
    "\n",
    "    pipeline = make_pipeline(StandardScaler(), SimpleImputer())\n",
    "    X_train_preprocessed = pipeline.fit_transform(X_train)\n",
    "    X_test_preprocessed = pipeline.transform(X_test)\n",
    "\n",
    "    model = LogisticRegression(max_iter=1000)\n",
    "    \n",
    "    rfe = RFE(estimator=model, n_features_to_select=n_features)\n",
    "    X_train_preprocessed = rfe.fit_transform(X_train_preprocessed, y_train)\n",
    "    X_test_preprocessed = rfe.transform(X_test_preprocessed)\n",
    "    \n",
    "    cv_scores = cross_val_score(model, X_train_preprocessed, y_train, cv=5)\n",
    "    mean_cv_score = np.mean(cv_scores)\n",
    "    \n",
    "    return mean_cv_score"
   ]
  },
  {
   "cell_type": "code",
   "execution_count": 6,
   "id": "bbefeeca",
   "metadata": {},
   "outputs": [
    {
     "data": {
      "text/plain": [
       "0.8555772994129158"
      ]
     },
     "execution_count": 6,
     "metadata": {},
     "output_type": "execute_result"
    }
   ],
   "source": [
    "columns = ['Age', \n",
    "           'SexDummy', \n",
    "           'PainDummy', \n",
    "           'RestingBP', \n",
    "           'Cholesterol', \n",
    "           'FastingBS', \n",
    "           'ECG_Dummy', \n",
    "           'MaxHR', \n",
    "           'ExerciseDummy', \n",
    "           'Oldpeak', \n",
    "           'ST_SlopeDummy']\n",
    "\n",
    "logreg(columns, 'HeartDisease')"
   ]
  },
  {
   "cell_type": "code",
   "execution_count": 7,
   "id": "eb06158b",
   "metadata": {},
   "outputs": [
    {
     "name": "stdout",
     "output_type": "stream",
     "text": [
      "Best Subset: ['Age', 'SexDummy', 'PainDummy', 'Cholesterol', 'ECG_Dummy', 'Oldpeak', 'ST_SlopeDummy']\n",
      "Best Score: 0.855595937004939\n"
     ]
    }
   ],
   "source": [
    "# Best Subset Selection\n",
    "def logreg(X, y, random_state=21, cv=5, n_features=10):\n",
    "    predictors = df[X]\n",
    "    to_predict = df[y]\n",
    "    \n",
    "    X_train, X_test, y_train, y_test = train_test_split(predictors, to_predict, test_size=0.2, random_state=random_state)\n",
    "\n",
    "    pipeline = make_pipeline(StandardScaler(), SimpleImputer())\n",
    "    X_train_preprocessed = pipeline.fit_transform(X_train)\n",
    "    X_test_preprocessed = pipeline.transform(X_test)\n",
    "\n",
    "    model = LogisticRegression(max_iter=1000)\n",
    "\n",
    "    best_score = float('-inf')\n",
    "    best_subset = None\n",
    "\n",
    "    column_names = X_train.columns.tolist()  # Get the column names from X_train\n",
    "\n",
    "    for k in range(1, min(n_features, len(column_names)) + 1):\n",
    "        for subset in itertools.combinations(column_names, k):\n",
    "            subset = list(subset)\n",
    "            X_train_subset = X_train_preprocessed[:, [column_names.index(col) for col in subset]]  # Select columns by index\n",
    "            X_test_subset = X_test_preprocessed[:, [column_names.index(col) for col in subset]]  # Select columns by index\n",
    "            \n",
    "            model.fit(X_train_subset, y_train)\n",
    "            cv_scores = cross_val_score(model, X_train_subset, y_train, cv=cv)\n",
    "            mean_cv_score = np.mean(cv_scores)\n",
    "            \n",
    "            if mean_cv_score > best_score:\n",
    "                best_score = mean_cv_score\n",
    "                best_subset = subset\n",
    "\n",
    "    return best_score, best_subset\n",
    "\n",
    "columns = ['Age', \n",
    "           'SexDummy', \n",
    "           'PainDummy', \n",
    "           'RestingBP', \n",
    "           'Cholesterol', \n",
    "           'FastingBS', \n",
    "           'ECG_Dummy', \n",
    "           'MaxHR', \n",
    "           'ExerciseDummy', \n",
    "           'Oldpeak', \n",
    "           'ST_SlopeDummy']\n",
    "\n",
    "best_score, best_subset = logreg(columns, 'HeartDisease')\n",
    "print(\"Best Subset:\", best_subset)\n",
    "print(\"Best Score:\", best_score)"
   ]
  },
  {
   "cell_type": "markdown",
   "id": "b4193976",
   "metadata": {},
   "source": [
    "# Random Forest"
   ]
  },
  {
   "cell_type": "code",
   "execution_count": 26,
   "id": "f6296706",
   "metadata": {},
   "outputs": [],
   "source": [
    "# one hot encode the rest of the columns to see if i can get better accuracy\n",
    "columns_to_encode = ['Sex', 'ChestPainType', 'RestingECG', 'ExerciseAngina', 'ST_Slope']\n",
    "\n",
    "df_modified = df.copy()\n",
    "\n",
    "df_encoded = pd.get_dummies(df_modified, columns=columns_to_encode)\n",
    "\n",
    "df_binary = df_encoded.astype(bool).astype(int)\n",
    "\n",
    "df_modified = df.drop(columns=columns_to_encode)\n",
    "df_modified = pd.concat([df_modified, df_binary], axis=1)\n",
    "\n",
    "X = df_modified.drop(['HeartDisease'], axis=1)\n",
    "y = df_modified['HeartDisease']"
   ]
  },
  {
   "cell_type": "code",
   "execution_count": 27,
   "id": "8e2611c4",
   "metadata": {},
   "outputs": [],
   "source": [
    "X_train, X_test, y_train, y_test = train_test_split(X, y, test_size=0.2, random_state=42)"
   ]
  },
  {
   "cell_type": "code",
   "execution_count": 28,
   "id": "ef8cc431",
   "metadata": {},
   "outputs": [
    {
     "data": {
      "text/plain": [
       "RandomForestClassifier()"
      ]
     },
     "execution_count": 28,
     "metadata": {},
     "output_type": "execute_result"
    }
   ],
   "source": [
    "rf_classifier = RandomForestClassifier()\n",
    "rf_classifier.fit(X_train, y_train)"
   ]
  },
  {
   "cell_type": "code",
   "execution_count": 29,
   "id": "672115eb",
   "metadata": {},
   "outputs": [],
   "source": [
    "y_pred = rf_classifier.predict(X_test)"
   ]
  },
  {
   "cell_type": "code",
   "execution_count": 30,
   "id": "6314a2d0",
   "metadata": {},
   "outputs": [
    {
     "name": "stdout",
     "output_type": "stream",
     "text": [
      "Accuracy: 0.88\n"
     ]
    }
   ],
   "source": [
    "accuracy = accuracy_score(y_test, y_pred)\n",
    "print(f'Accuracy: {accuracy:.2f}')"
   ]
  },
  {
   "cell_type": "code",
   "execution_count": 31,
   "id": "ac37056a",
   "metadata": {},
   "outputs": [
    {
     "name": "stdout",
     "output_type": "stream",
     "text": [
      "I did get better accruacy, the original without one hot encoding did 77%, i got aroun 9% better with the one hot encoding\n"
     ]
    }
   ],
   "source": [
    "print(\"I did get better accruacy, the original without one hot encoding did 77%, i got aroun 9% better with the one hot encoding\")"
   ]
  },
  {
   "cell_type": "code",
   "execution_count": null,
   "id": "17fa287e",
   "metadata": {},
   "outputs": [],
   "source": []
  }
 ],
 "metadata": {
  "kernelspec": {
   "display_name": "Python 3 (ipykernel)",
   "language": "python",
   "name": "python3"
  },
  "language_info": {
   "codemirror_mode": {
    "name": "ipython",
    "version": 3
   },
   "file_extension": ".py",
   "mimetype": "text/x-python",
   "name": "python",
   "nbconvert_exporter": "python",
   "pygments_lexer": "ipython3",
   "version": "3.9.13"
  }
 },
 "nbformat": 4,
 "nbformat_minor": 5
}
